{
  "nbformat": 4,
  "nbformat_minor": 0,
  "metadata": {
    "colab": {
      "provenance": []
    },
    "kernelspec": {
      "name": "python3",
      "display_name": "Python 3"
    },
    "language_info": {
      "name": "python"
    }
  },
  "cells": [
    {
      "cell_type": "code",
      "execution_count": 16,
      "metadata": {
        "colab": {
          "base_uri": "https://localhost:8080/"
        },
        "id": "1aX4HwtuSJt3",
        "outputId": "77121f12-1e03-48da-f014-c4d29fe81758"
      },
      "outputs": [
        {
          "output_type": "stream",
          "name": "stdout",
          "text": [
            "Requirement already satisfied: langchain in /usr/local/lib/python3.11/dist-packages (0.3.18)\n",
            "Collecting langchain\n",
            "  Downloading langchain-0.3.19-py3-none-any.whl.metadata (7.9 kB)\n",
            "Requirement already satisfied: langchain-community in /usr/local/lib/python3.11/dist-packages (0.3.17)\n",
            "Requirement already satisfied: groq in /usr/local/lib/python3.11/dist-packages (0.18.0)\n",
            "Requirement already satisfied: langchain-core<1.0.0,>=0.3.35 in /usr/local/lib/python3.11/dist-packages (from langchain) (0.3.35)\n",
            "Requirement already satisfied: langchain-text-splitters<1.0.0,>=0.3.6 in /usr/local/lib/python3.11/dist-packages (from langchain) (0.3.6)\n",
            "Requirement already satisfied: langsmith<0.4,>=0.1.17 in /usr/local/lib/python3.11/dist-packages (from langchain) (0.3.8)\n",
            "Requirement already satisfied: pydantic<3.0.0,>=2.7.4 in /usr/local/lib/python3.11/dist-packages (from langchain) (2.10.6)\n",
            "Requirement already satisfied: SQLAlchemy<3,>=1.4 in /usr/local/lib/python3.11/dist-packages (from langchain) (2.0.38)\n",
            "Requirement already satisfied: requests<3,>=2 in /usr/local/lib/python3.11/dist-packages (from langchain) (2.32.3)\n",
            "Requirement already satisfied: PyYAML>=5.3 in /usr/local/lib/python3.11/dist-packages (from langchain) (6.0.2)\n",
            "Requirement already satisfied: aiohttp<4.0.0,>=3.8.3 in /usr/local/lib/python3.11/dist-packages (from langchain) (3.11.12)\n",
            "Requirement already satisfied: tenacity!=8.4.0,<10,>=8.1.0 in /usr/local/lib/python3.11/dist-packages (from langchain) (9.0.0)\n",
            "Requirement already satisfied: numpy<2,>=1.26.4 in /usr/local/lib/python3.11/dist-packages (from langchain) (1.26.4)\n",
            "Requirement already satisfied: dataclasses-json<0.7,>=0.5.7 in /usr/local/lib/python3.11/dist-packages (from langchain-community) (0.6.7)\n",
            "Requirement already satisfied: pydantic-settings<3.0.0,>=2.4.0 in /usr/local/lib/python3.11/dist-packages (from langchain-community) (2.7.1)\n",
            "Requirement already satisfied: httpx-sse<1.0.0,>=0.4.0 in /usr/local/lib/python3.11/dist-packages (from langchain-community) (0.4.0)\n",
            "Requirement already satisfied: anyio<5,>=3.5.0 in /usr/local/lib/python3.11/dist-packages (from groq) (3.7.1)\n",
            "Requirement already satisfied: distro<2,>=1.7.0 in /usr/local/lib/python3.11/dist-packages (from groq) (1.9.0)\n",
            "Requirement already satisfied: httpx<1,>=0.23.0 in /usr/local/lib/python3.11/dist-packages (from groq) (0.28.1)\n",
            "Requirement already satisfied: sniffio in /usr/local/lib/python3.11/dist-packages (from groq) (1.3.1)\n",
            "Requirement already satisfied: typing-extensions<5,>=4.10 in /usr/local/lib/python3.11/dist-packages (from groq) (4.12.2)\n",
            "Requirement already satisfied: aiohappyeyeballs>=2.3.0 in /usr/local/lib/python3.11/dist-packages (from aiohttp<4.0.0,>=3.8.3->langchain) (2.4.6)\n",
            "Requirement already satisfied: aiosignal>=1.1.2 in /usr/local/lib/python3.11/dist-packages (from aiohttp<4.0.0,>=3.8.3->langchain) (1.3.2)\n",
            "Requirement already satisfied: attrs>=17.3.0 in /usr/local/lib/python3.11/dist-packages (from aiohttp<4.0.0,>=3.8.3->langchain) (25.1.0)\n",
            "Requirement already satisfied: frozenlist>=1.1.1 in /usr/local/lib/python3.11/dist-packages (from aiohttp<4.0.0,>=3.8.3->langchain) (1.5.0)\n",
            "Requirement already satisfied: multidict<7.0,>=4.5 in /usr/local/lib/python3.11/dist-packages (from aiohttp<4.0.0,>=3.8.3->langchain) (6.1.0)\n",
            "Requirement already satisfied: propcache>=0.2.0 in /usr/local/lib/python3.11/dist-packages (from aiohttp<4.0.0,>=3.8.3->langchain) (0.2.1)\n",
            "Requirement already satisfied: yarl<2.0,>=1.17.0 in /usr/local/lib/python3.11/dist-packages (from aiohttp<4.0.0,>=3.8.3->langchain) (1.18.3)\n",
            "Requirement already satisfied: idna>=2.8 in /usr/local/lib/python3.11/dist-packages (from anyio<5,>=3.5.0->groq) (3.10)\n",
            "Requirement already satisfied: marshmallow<4.0.0,>=3.18.0 in /usr/local/lib/python3.11/dist-packages (from dataclasses-json<0.7,>=0.5.7->langchain-community) (3.26.1)\n",
            "Requirement already satisfied: typing-inspect<1,>=0.4.0 in /usr/local/lib/python3.11/dist-packages (from dataclasses-json<0.7,>=0.5.7->langchain-community) (0.9.0)\n",
            "Requirement already satisfied: certifi in /usr/local/lib/python3.11/dist-packages (from httpx<1,>=0.23.0->groq) (2025.1.31)\n",
            "Requirement already satisfied: httpcore==1.* in /usr/local/lib/python3.11/dist-packages (from httpx<1,>=0.23.0->groq) (1.0.7)\n",
            "Requirement already satisfied: h11<0.15,>=0.13 in /usr/local/lib/python3.11/dist-packages (from httpcore==1.*->httpx<1,>=0.23.0->groq) (0.14.0)\n",
            "Requirement already satisfied: jsonpatch<2.0,>=1.33 in /usr/local/lib/python3.11/dist-packages (from langchain-core<1.0.0,>=0.3.35->langchain) (1.33)\n",
            "Requirement already satisfied: packaging<25,>=23.2 in /usr/local/lib/python3.11/dist-packages (from langchain-core<1.0.0,>=0.3.35->langchain) (24.2)\n",
            "Requirement already satisfied: orjson<4.0.0,>=3.9.14 in /usr/local/lib/python3.11/dist-packages (from langsmith<0.4,>=0.1.17->langchain) (3.10.15)\n",
            "Requirement already satisfied: requests-toolbelt<2.0.0,>=1.0.0 in /usr/local/lib/python3.11/dist-packages (from langsmith<0.4,>=0.1.17->langchain) (1.0.0)\n",
            "Requirement already satisfied: zstandard<0.24.0,>=0.23.0 in /usr/local/lib/python3.11/dist-packages (from langsmith<0.4,>=0.1.17->langchain) (0.23.0)\n",
            "Requirement already satisfied: annotated-types>=0.6.0 in /usr/local/lib/python3.11/dist-packages (from pydantic<3.0.0,>=2.7.4->langchain) (0.7.0)\n",
            "Requirement already satisfied: pydantic-core==2.27.2 in /usr/local/lib/python3.11/dist-packages (from pydantic<3.0.0,>=2.7.4->langchain) (2.27.2)\n",
            "Requirement already satisfied: python-dotenv>=0.21.0 in /usr/local/lib/python3.11/dist-packages (from pydantic-settings<3.0.0,>=2.4.0->langchain-community) (1.0.1)\n",
            "Requirement already satisfied: charset-normalizer<4,>=2 in /usr/local/lib/python3.11/dist-packages (from requests<3,>=2->langchain) (3.4.1)\n",
            "Requirement already satisfied: urllib3<3,>=1.21.1 in /usr/local/lib/python3.11/dist-packages (from requests<3,>=2->langchain) (2.3.0)\n",
            "Requirement already satisfied: greenlet!=0.4.17 in /usr/local/lib/python3.11/dist-packages (from SQLAlchemy<3,>=1.4->langchain) (3.1.1)\n",
            "Requirement already satisfied: jsonpointer>=1.9 in /usr/local/lib/python3.11/dist-packages (from jsonpatch<2.0,>=1.33->langchain-core<1.0.0,>=0.3.35->langchain) (3.0.0)\n",
            "Requirement already satisfied: mypy-extensions>=0.3.0 in /usr/local/lib/python3.11/dist-packages (from typing-inspect<1,>=0.4.0->dataclasses-json<0.7,>=0.5.7->langchain-community) (1.0.0)\n",
            "Downloading langchain-0.3.19-py3-none-any.whl (1.0 MB)\n",
            "\u001b[2K   \u001b[90m━━━━━━━━━━━━━━━━━━━━━━━━━━━━━━━━━━━━━━━━\u001b[0m \u001b[32m1.0/1.0 MB\u001b[0m \u001b[31m39.2 MB/s\u001b[0m eta \u001b[36m0:00:00\u001b[0m\n",
            "\u001b[?25hInstalling collected packages: langchain\n",
            "  Attempting uninstall: langchain\n",
            "    Found existing installation: langchain 0.3.18\n",
            "    Uninstalling langchain-0.3.18:\n",
            "      Successfully uninstalled langchain-0.3.18\n",
            "Successfully installed langchain-0.3.19\n"
          ]
        }
      ],
      "source": [
        "!pip install -U langchain langchain-community groq"
      ]
    },
    {
      "cell_type": "code",
      "source": [
        "pip show langchain_groq\n"
      ],
      "metadata": {
        "colab": {
          "base_uri": "https://localhost:8080/"
        },
        "id": "aIxwwqngXiFF",
        "outputId": "90f88332-a350-4162-cf3f-1085db40e5eb"
      },
      "execution_count": 18,
      "outputs": [
        {
          "output_type": "stream",
          "name": "stdout",
          "text": [
            "\u001b[33mWARNING: Package(s) not found: langchain_groq\u001b[0m\u001b[33m\n",
            "\u001b[0m"
          ]
        }
      ]
    },
    {
      "cell_type": "code",
      "source": [
        "pip install langchain-groq\n"
      ],
      "metadata": {
        "colab": {
          "base_uri": "https://localhost:8080/"
        },
        "id": "ay8fNGqXXn-w",
        "outputId": "1b408ff5-8fb7-44a4-f65f-6fae40a8664a"
      },
      "execution_count": 19,
      "outputs": [
        {
          "output_type": "stream",
          "name": "stdout",
          "text": [
            "Collecting langchain-groq\n",
            "  Downloading langchain_groq-0.2.4-py3-none-any.whl.metadata (3.0 kB)\n",
            "Requirement already satisfied: groq<1,>=0.4.1 in /usr/local/lib/python3.11/dist-packages (from langchain-groq) (0.18.0)\n",
            "Requirement already satisfied: langchain-core<0.4.0,>=0.3.33 in /usr/local/lib/python3.11/dist-packages (from langchain-groq) (0.3.35)\n",
            "Requirement already satisfied: anyio<5,>=3.5.0 in /usr/local/lib/python3.11/dist-packages (from groq<1,>=0.4.1->langchain-groq) (3.7.1)\n",
            "Requirement already satisfied: distro<2,>=1.7.0 in /usr/local/lib/python3.11/dist-packages (from groq<1,>=0.4.1->langchain-groq) (1.9.0)\n",
            "Requirement already satisfied: httpx<1,>=0.23.0 in /usr/local/lib/python3.11/dist-packages (from groq<1,>=0.4.1->langchain-groq) (0.28.1)\n",
            "Requirement already satisfied: pydantic<3,>=1.9.0 in /usr/local/lib/python3.11/dist-packages (from groq<1,>=0.4.1->langchain-groq) (2.10.6)\n",
            "Requirement already satisfied: sniffio in /usr/local/lib/python3.11/dist-packages (from groq<1,>=0.4.1->langchain-groq) (1.3.1)\n",
            "Requirement already satisfied: typing-extensions<5,>=4.10 in /usr/local/lib/python3.11/dist-packages (from groq<1,>=0.4.1->langchain-groq) (4.12.2)\n",
            "Requirement already satisfied: langsmith<0.4,>=0.1.125 in /usr/local/lib/python3.11/dist-packages (from langchain-core<0.4.0,>=0.3.33->langchain-groq) (0.3.8)\n",
            "Requirement already satisfied: tenacity!=8.4.0,<10.0.0,>=8.1.0 in /usr/local/lib/python3.11/dist-packages (from langchain-core<0.4.0,>=0.3.33->langchain-groq) (9.0.0)\n",
            "Requirement already satisfied: jsonpatch<2.0,>=1.33 in /usr/local/lib/python3.11/dist-packages (from langchain-core<0.4.0,>=0.3.33->langchain-groq) (1.33)\n",
            "Requirement already satisfied: PyYAML>=5.3 in /usr/local/lib/python3.11/dist-packages (from langchain-core<0.4.0,>=0.3.33->langchain-groq) (6.0.2)\n",
            "Requirement already satisfied: packaging<25,>=23.2 in /usr/local/lib/python3.11/dist-packages (from langchain-core<0.4.0,>=0.3.33->langchain-groq) (24.2)\n",
            "Requirement already satisfied: idna>=2.8 in /usr/local/lib/python3.11/dist-packages (from anyio<5,>=3.5.0->groq<1,>=0.4.1->langchain-groq) (3.10)\n",
            "Requirement already satisfied: certifi in /usr/local/lib/python3.11/dist-packages (from httpx<1,>=0.23.0->groq<1,>=0.4.1->langchain-groq) (2025.1.31)\n",
            "Requirement already satisfied: httpcore==1.* in /usr/local/lib/python3.11/dist-packages (from httpx<1,>=0.23.0->groq<1,>=0.4.1->langchain-groq) (1.0.7)\n",
            "Requirement already satisfied: h11<0.15,>=0.13 in /usr/local/lib/python3.11/dist-packages (from httpcore==1.*->httpx<1,>=0.23.0->groq<1,>=0.4.1->langchain-groq) (0.14.0)\n",
            "Requirement already satisfied: jsonpointer>=1.9 in /usr/local/lib/python3.11/dist-packages (from jsonpatch<2.0,>=1.33->langchain-core<0.4.0,>=0.3.33->langchain-groq) (3.0.0)\n",
            "Requirement already satisfied: orjson<4.0.0,>=3.9.14 in /usr/local/lib/python3.11/dist-packages (from langsmith<0.4,>=0.1.125->langchain-core<0.4.0,>=0.3.33->langchain-groq) (3.10.15)\n",
            "Requirement already satisfied: requests<3,>=2 in /usr/local/lib/python3.11/dist-packages (from langsmith<0.4,>=0.1.125->langchain-core<0.4.0,>=0.3.33->langchain-groq) (2.32.3)\n",
            "Requirement already satisfied: requests-toolbelt<2.0.0,>=1.0.0 in /usr/local/lib/python3.11/dist-packages (from langsmith<0.4,>=0.1.125->langchain-core<0.4.0,>=0.3.33->langchain-groq) (1.0.0)\n",
            "Requirement already satisfied: zstandard<0.24.0,>=0.23.0 in /usr/local/lib/python3.11/dist-packages (from langsmith<0.4,>=0.1.125->langchain-core<0.4.0,>=0.3.33->langchain-groq) (0.23.0)\n",
            "Requirement already satisfied: annotated-types>=0.6.0 in /usr/local/lib/python3.11/dist-packages (from pydantic<3,>=1.9.0->groq<1,>=0.4.1->langchain-groq) (0.7.0)\n",
            "Requirement already satisfied: pydantic-core==2.27.2 in /usr/local/lib/python3.11/dist-packages (from pydantic<3,>=1.9.0->groq<1,>=0.4.1->langchain-groq) (2.27.2)\n",
            "Requirement already satisfied: charset-normalizer<4,>=2 in /usr/local/lib/python3.11/dist-packages (from requests<3,>=2->langsmith<0.4,>=0.1.125->langchain-core<0.4.0,>=0.3.33->langchain-groq) (3.4.1)\n",
            "Requirement already satisfied: urllib3<3,>=1.21.1 in /usr/local/lib/python3.11/dist-packages (from requests<3,>=2->langsmith<0.4,>=0.1.125->langchain-core<0.4.0,>=0.3.33->langchain-groq) (2.3.0)\n",
            "Downloading langchain_groq-0.2.4-py3-none-any.whl (14 kB)\n",
            "Installing collected packages: langchain-groq\n",
            "Successfully installed langchain-groq-0.2.4\n"
          ]
        }
      ]
    },
    {
      "cell_type": "code",
      "source": [
        "import os\n",
        "from langchain_groq import ChatGroq  # Correct import\n",
        "from langchain.schema import SystemMessage, HumanMessage\n",
        "\n",
        "# Set API Key (replace 'your-groq-api-key' with your actual key)\n",
        "os.environ[\"GROQ_API_KEY\"] = \"your-groq-api-key\"\n",
        "\n",
        "# Initialize Groq's LLaMA-3.1-8B-Instant Model\n",
        "chat = ChatGroq(model=\"llama3-8b-8192\")\n",
        "\n",
        "# Define system instructions and user prompt\n",
        "messages = [\n",
        "    SystemMessage(content=\"You are a financial analyst generating investment reports.\"),\n",
        "    HumanMessage(content=\"Generate an investment report summary based on a portfolio with 10% returns, 60% equity, 30% bonds, and 10% cash.\")\n",
        "]\n",
        "\n",
        "# Get response from LLaMA\n",
        "response = chat.invoke(messages)\n",
        "\n",
        "# Print the output\n",
        "print(response.content)\n"
      ],
      "metadata": {
        "colab": {
          "base_uri": "https://localhost:8080/"
        },
        "id": "5ge4HTwXScQ8",
        "outputId": "1d5cb09e-aef7-4626-b6b4-e504361b40e9"
      },
      "execution_count": 2,
      "outputs": [
        {
          "output_type": "stream",
          "name": "stdout",
          "text": [
            "**Investment Report Summary**\n",
            "\n",
            "**Portfolio Performance:**\n",
            "\n",
            "* Total Return: 10.00%\n",
            "* Annualized Return: 10.00%\n",
            "\n",
            "**Asset Allocation:**\n",
            "\n",
            "* Equity: 60.00%\n",
            "* Bonds: 30.00%\n",
            "* Cash: 10.00%\n",
            "\n",
            "**Performance Breakdown:**\n",
            "\n",
            "* Equity: 12.00% (20.00% of total return)\n",
            "* Bonds: 4.00% (6.67% of total return)\n",
            "* Cash: 0.00% (0.00% of total return)\n",
            "\n",
            "**Key Takeaways:**\n",
            "\n",
            "* The portfolio generated a strong 10.00% return, driven primarily by the performance of the equity component.\n",
            "* The equity allocation, which accounts for 60.00% of the portfolio, was the main driver of returns, contributing 12.00% to the overall return.\n",
            "* The bond allocation, which accounts for 30.00% of the portfolio, provided a stable return of 4.00%.\n",
            "* The cash allocation, which accounts for 10.00% of the portfolio, did not contribute to the return, as it is typically used for liquidity and not for generating returns.\n",
            "\n",
            "**Recommendations:**\n",
            "\n",
            "* Continue to maintain the current asset allocation, as it has provided a strong return while still offering a reasonable level of risk.\n",
            "* Monitor the performance of the equity and bond components and rebalance the portfolio as necessary to ensure it remains aligned with the target allocation.\n",
            "\n",
            "**Conclusion:**\n",
            "\n",
            "The portfolio performed well in the current period, generating a strong return of 10.00%. The equity allocation was the main driver of returns, while the bond allocation provided a stable return. We recommend continuing to maintain the current asset allocation and monitoring the performance of the portfolio components to ensure it remains aligned with the target allocation.\n"
          ]
        }
      ]
    },
    {
      "cell_type": "code",
      "source": [
        "import os\n",
        "from langchain_groq import ChatGroq  # Correct import\n",
        "from langchain.schema import SystemMessage, HumanMessage\n",
        "\n",
        "# Set API Key (replace 'your-groq-api-key' with your actual key)\n",
        "os.environ[\"GROQ_API_KEY\"] = \"your-groq-api-key\"\n",
        "\n",
        "# Initialize Groq's LLaMA-3.1-8B-Instant Model\n",
        "chat = ChatGroq(model=\"llama3-8b-8192\")\n",
        "\n",
        "# Example 1: Structured Investment Report Generation\n",
        "messages1 = [\n",
        "    SystemMessage(content=\"You are a financial analyst generating investment reports.\"),\n",
        "    HumanMessage(content=\"\"\"\n",
        "    Generate a professional investment report summary based on the following portfolio details:\n",
        "\n",
        "    Portfolio Performance:\n",
        "    Total Return: 10%\n",
        "    Annualized Return: 8%\n",
        "    Benchmark Return: 7%\n",
        "\n",
        "    Asset Allocation:\n",
        "    Equity: 60%\n",
        "    Bonds: 30%\n",
        "    Cash: 10%\n",
        "\n",
        "    Performance Breakdown:\n",
        "    Equity Return: 12%\n",
        "    Bonds Return: 6%\n",
        "    Cash Return: 1%\n",
        "\n",
        "    Risk Metrics:\n",
        "    Portfolio Standard Deviation: 5%\n",
        "    Sharpe Ratio: 1.2\n",
        "    Maximum Drawdown: 10%\n",
        "\n",
        "    Ensure the report:\n",
        "    - Tailors insights to the client's risk profile (e.g., balanced).\n",
        "    - Includes compliance disclosures (e.g., past performance is not indicative of future results).\n",
        "    - Provides recommendations on asset allocation adjustments and risk management strategies.\n",
        "    \"\"\")\n",
        "]\n",
        "\n",
        "# Get responses for all the test cases\n",
        "response1 = chat.invoke(messages1)\n",
        "\n",
        "# Print the outputs\n",
        "print(\"Test Case 1 (Structured Investment Report):\")\n",
        "print(response1.content)\n"
      ],
      "metadata": {
        "colab": {
          "base_uri": "https://localhost:8080/"
        },
        "id": "dpBNlPQheUZa",
        "outputId": "6f113d99-5491-42d5-c56f-103015b544c6"
      },
      "execution_count": 8,
      "outputs": [
        {
          "output_type": "stream",
          "name": "stdout",
          "text": [
            "Test Case 1 (Structured Investment Report):\n",
            "**Investment Report Summary**\n",
            "\n",
            "**Portfolio Performance**\n",
            "\n",
            "The balanced portfolio, tailored to your risk profile, has delivered a total return of 10% over the review period, surpassing the benchmark return of 7%. The annualized return of 8% indicates a consistent and stable growth pattern. Our analysis suggests that the portfolio's performance has been driven by the equity and bond segments, which have contributed significantly to the overall return.\n",
            "\n",
            "**Asset Allocation**\n",
            "\n",
            "The portfolio's asset allocation is well-diversified, with 60% allocated to equities, 30% to bonds, and 10% to cash. This balanced approach has enabled the portfolio to generate returns while managing risk effectively.\n",
            "\n",
            "**Performance Breakdown**\n",
            "\n",
            "A closer look at the performance breakdown reveals that the equity segment has been the primary driver of returns, with a return of 12%. The bonds segment has contributed a more modest 6%, while the cash segment has generated a relatively low return of 1%.\n",
            "\n",
            "**Risk Metrics**\n",
            "\n",
            "The portfolio's risk metrics are also noteworthy. The standard deviation of 5% indicates a relatively moderate level of volatility, while the Sharpe ratio of 1.2 suggests that the portfolio has generated excess returns relative to its risk. The maximum drawdown of 10% highlights the importance of risk management strategies to mitigate potential losses.\n",
            "\n",
            "**Recommendations**\n",
            "\n",
            "Based on our analysis, we recommend maintaining the current asset allocation, as it has provided a suitable balance between return and risk. However, we suggest considering the following adjustments to further optimize the portfolio:\n",
            "\n",
            "1. Rebalancing: Given the strong performance of the equity segment, we recommend rebalancing the portfolio to maintain the target allocation of 60% to equities.\n",
            "2. Risk Management: To mitigate potential losses, we recommend implementing a stop-loss strategy to limit the maximum drawdown to 8% or lower.\n",
            "3. Monitoring: Regularly monitor the portfolio's performance and rebalance as necessary to ensure that the asset allocation remains aligned with your risk profile.\n",
            "\n",
            "**Compliance Disclosure**\n",
            "\n",
            "Please note that past performance is not indicative of future results, and actual results may vary. This report is for informational purposes only and should not be considered investment advice. It is essential to consult with a financial advisor and conduct thorough research before making any investment decisions.\n",
            "\n",
            "**Conclusion**\n",
            "\n",
            "The balanced portfolio has delivered a strong total return of 10%, exceeding the benchmark return. Our analysis suggests that the portfolio's performance has been driven by the equity and bond segments, while the risk metrics indicate a moderate level of volatility. We recommend maintaining the current asset allocation, rebalancing the portfolio, and implementing risk management strategies to optimize returns and minimize losses. As always, it is essential to monitor the portfolio's performance and rebalance as necessary to ensure that it remains aligned with your risk profile.\n"
          ]
        }
      ]
    },
    {
      "cell_type": "code",
      "source": [
        "import os\n",
        "from langchain_groq import ChatGroq  # Correct import\n",
        "from langchain.schema import SystemMessage, HumanMessage\n",
        "\n",
        "# Set API Key (replace 'your-groq-api-key' with your actual key)\n",
        "os.environ[\"GROQ_API_KEY\"] = \"your-groq-api-key\"\n",
        "\n",
        "# Initialize Groq's LLaMA-3.1-8B-Instant Model\n",
        "chat = ChatGroq(model=\"llama3-8b-8192\")\n",
        "\n",
        "# Example 2: Customization for Client Profiles\n",
        "messages2 = [\n",
        "    SystemMessage(content=\"You are a financial analyst generating investment reports.\"),\n",
        "    HumanMessage(content=\"\"\"\n",
        "    Rewrite the investment report summary for a client with the following profile:\n",
        "\n",
        "    Client Type: High-Net-Worth Individual\n",
        "    Investment Goal: Capital Growth\n",
        "    Risk Appetite: High\n",
        "    Investment Horizon: Long-term\n",
        "\n",
        "    Modify the tone, language, and depth of insights to align with the client's financial expertise and objectives.\n",
        "    Provide personalized recommendations that suit their risk tolerance and investment strategy.\n",
        "    \"\"\")\n",
        "]\n",
        "\n",
        "response2 = chat.invoke(messages2)\n",
        "\n",
        "print(\"\\nTest Case 2 (Customization for Client Profiles):\")\n",
        "print(response2.content)"
      ],
      "metadata": {
        "colab": {
          "base_uri": "https://localhost:8080/"
        },
        "id": "T7s2o06ugU-U",
        "outputId": "a8eea80c-8181-431e-94dd-acc36418c4e3"
      },
      "execution_count": 9,
      "outputs": [
        {
          "output_type": "stream",
          "name": "stdout",
          "text": [
            "\n",
            "Test Case 2 (Customization for Client Profiles):\n",
            "**Investment Report Summary for High-Net-Worth Individual**\n",
            "\n",
            "**Objective:**\n",
            "\n",
            "As a high-net-worth individual with a high risk appetite, your primary objective is to achieve long-term capital growth. Your investment horizon allows us to adopt a strategic approach, focusing on growth-oriented assets that can withstand market fluctuations.\n",
            "\n",
            "**Market Overview:**\n",
            "\n",
            "The current market landscape presents a mix of opportunities and challenges. Global economic indicators remain robust, driven by sustained growth in major developed economies. However, geopolitical tensions, trade wars, and interest rate fluctuations may impact market volatility. We believe that a diversified portfolio, carefully constructed to navigate these uncertainties, can yield attractive returns over the long term.\n",
            "\n",
            "**Portfolio Recommendations:**\n",
            "\n",
            "Based on your investment objectives and risk tolerance, we recommend a portfolio comprising the following assets:\n",
            "\n",
            "1. **Equities:** 60% allocation to a diversified mix of large-cap and mid-cap stocks, focusing on growth sectors such as technology, healthcare, and e-commerce. We will also consider international equities, particularly in regions with strong economic growth prospects.\n",
            "2. **Fixed Income:** 20% allocation to high-yield bonds, specifically those issued by investment-grade corporations, to provide a stable source of income and reduce overall portfolio volatility.\n",
            "3. **Alternative Investments:** 10% allocation to alternative assets, such as private equity, real estate, or infrastructure, to diversify your portfolio and enhance returns.\n",
            "4. **Cash and Cash Equivalents:** 10% allocation to maintain liquidity and flexibility, allowing us to capitalize on market opportunities or adjust the portfolio as needed.\n",
            "\n",
            "**Key Holdings:**\n",
            "\n",
            "We will focus on the following specific holdings to drive returns:\n",
            "\n",
            "* Technology: Alphabet (GOOGL), Amazon (AMZN), Microsoft (MSFT)\n",
            "* Healthcare: Johnson & Johnson (JNJ), Pfizer (PFE), UnitedHealth Group (UNH)\n",
            "* E-commerce: Shopify (SHOP), Amazon (AMZN), Alibaba Group (BABA)\n",
            "* High-Yield Bonds: Verizon Communications (VZ), AT&T (T), 3M (MMM)\n",
            "\n",
            "**Rationale:**\n",
            "\n",
            "Our investment strategy is designed to balance risk and potential returns. By allocating a significant portion to equities, we can capitalize on growth opportunities while also diversifying the portfolio through fixed income and alternative assets. The high-yield bond allocation provides a stable source of income, while the cash and cash equivalents allocation maintains liquidity and flexibility.\n",
            "\n",
            "**Monitoring and Adjustments:**\n",
            "\n",
            "We will closely monitor the portfolio's performance and make adjustments as needed to ensure it remains aligned with your investment objectives. Regular portfolio rebalancing will be conducted to maintain the targeted asset allocation and optimize returns.\n",
            "\n",
            "**Conclusion:**\n",
            "\n",
            "We believe this investment strategy is well-suited to your high-risk tolerance and long-term investment horizon. By diversifying your portfolio across different asset classes and sectors, we can capitalize on growth opportunities while managing risk. We will continue to monitor the market and make adjustments as necessary to ensure your portfolio remains on track to achieve your investment goals.\n",
            "\n",
            "Please do not hesitate to contact us if you have any questions or concerns regarding this report or your investment portfolio.\n",
            "\n",
            "Best regards,\n",
            "\n",
            "[Your Name]\n",
            "Financial Analyst\n"
          ]
        }
      ]
    },
    {
      "cell_type": "code",
      "source": [
        "import os\n",
        "from langchain_groq import ChatGroq  # Correct import\n",
        "from langchain.schema import SystemMessage, HumanMessage\n",
        "\n",
        "# Set API Key (replace 'your-groq-api-key' with your actual key)\n",
        "os.environ[\"GROQ_API_KEY\"] = \"your-groq-api-key\"\n",
        "\n",
        "# Initialize Groq's LLaMA-3.1-8B-Instant Model\n",
        "chat = ChatGroq(model=\"llama3-8b-8192\")\n",
        "\n",
        "# Example 3: Compliance & Regulatory Alignment\n",
        "messages3 = [\n",
        "    SystemMessage(content=\"You are a financial analyst generating investment reports.\"),\n",
        "    HumanMessage(content=\"\"\"\n",
        "    Enhance the investment report summary by ensuring full compliance with financial regulations. Include the following disclosures:\n",
        "\n",
        "    - Past performance does not guarantee future results.\n",
        "    - Market risks and economic conditions may impact returns.\n",
        "    - Investments should be reviewed periodically to align with financial goals.\n",
        "\n",
        "    Ensure the report maintains clarity, transparency, and regulatory compliance while providing actionable insights for the client.\n",
        "    \"\"\")\n",
        "]\n",
        "\n",
        "response3 = chat.invoke(messages3)\n",
        "\n",
        "print(\"\\nTest Case 3 (Compliance & Regulatory Alignment):\")\n",
        "print(response3.content)"
      ],
      "metadata": {
        "colab": {
          "base_uri": "https://localhost:8080/"
        },
        "id": "ue_wvVZfgXIL",
        "outputId": "4b43b3ff-5ee3-4f5e-dccb-a1abe6b45729"
      },
      "execution_count": 10,
      "outputs": [
        {
          "output_type": "stream",
          "name": "stdout",
          "text": [
            "\n",
            "Test Case 3 (Compliance & Regulatory Alignment):\n",
            "**Investment Report Summary**\n",
            "\n",
            "**Introduction**\n",
            "\n",
            "The purpose of this report is to provide a comprehensive summary of the investment portfolio's performance and recommendations for future growth. As a financial analyst, I have conducted a thorough analysis of the portfolio's composition, market trends, and economic conditions to provide actionable insights for the client.\n",
            "\n",
            "**Performance Overview**\n",
            "\n",
            "The investment portfolio has demonstrated a strong performance over the past quarter, with a total return of [X]% since the inception of the portfolio. However, it is essential to note that past performance does not guarantee future results. Investors should be aware that market risks and economic conditions may impact returns, and it is crucial to regularly review the portfolio to ensure alignment with financial goals.\n",
            "\n",
            "**Market Risks and Economic Conditions**\n",
            "\n",
            "The current market environment is characterized by [briefly describe the market conditions, e.g., low interest rates, high inflation, etc.]. This may pose risks to the portfolio's performance, and investors should be prepared for potential volatility. It is essential to regularly review the portfolio to ensure it remains aligned with the client's risk tolerance and financial goals.\n",
            "\n",
            "**Portfolio Composition and Recommendations**\n",
            "\n",
            "The portfolio is currently comprised of [list the specific securities, asset classes, or investment vehicles]. Based on the analysis, I recommend the following adjustments to the portfolio:\n",
            "\n",
            "* [Specific recommendations, e.g., rebalancing, adding new securities, or adjusting asset allocation]\n",
            "\n",
            "These recommendations are designed to optimize the portfolio's performance while ensuring alignment with the client's risk tolerance and financial goals.\n",
            "\n",
            "**Disclosure Statement**\n",
            "\n",
            "Please note that investing in the securities or asset classes mentioned in this report involves risks, and there are no guarantees of returns. Past performance is not indicative of future results. Market risks and economic conditions may impact returns, and it is essential to regularly review the portfolio to ensure alignment with financial goals.\n",
            "\n",
            "**Actionable Insights**\n",
            "\n",
            "Based on the analysis, I recommend the following actions to the client:\n",
            "\n",
            "* Review the portfolio regularly to ensure alignment with financial goals and risk tolerance.\n",
            "* Consider rebalancing the portfolio to optimize returns and minimize risk.\n",
            "* Explore alternative investment options to diversify the portfolio and reduce exposure to market risks.\n",
            "\n",
            "**Conclusion**\n",
            "\n",
            "In conclusion, this report provides a comprehensive summary of the investment portfolio's performance and recommendations for future growth. I encourage the client to review the report carefully and consider the actionable insights provided. If you have any questions or concerns, please do not hesitate to contact me.\n",
            "\n",
            "**Regulatory Compliance**\n",
            "\n",
            "This report is prepared in accordance with the relevant financial regulations and guidelines. The information provided is based on publicly available data and is intended for the client's use only. The report does not constitute investment advice, and the client should consult with a qualified financial advisor before making any investment decisions.\n",
            "\n",
            "**Disclosure**\n",
            "\n",
            "This report is prepared by [Your Name], a registered financial analyst. The information contained in this report is accurate to the best of my knowledge and belief. However, I make no warranties or representations regarding the accuracy or completeness of the information contained in this report.\n",
            "\n",
            "By accepting this report, the client acknowledges that they have read, understood, and agreed to the terms and conditions set forth in this report, including the disclosures outlined above.\n",
            "\n",
            "**Signature**\n",
            "\n",
            "[Your Signature]\n",
            "[Your Name]\n",
            "Financial Analyst\n",
            "[Your Firm]\n",
            "[Date]\n"
          ]
        }
      ]
    }
  ]
}